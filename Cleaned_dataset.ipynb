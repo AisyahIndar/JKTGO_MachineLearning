{
  "nbformat": 4,
  "nbformat_minor": 0,
  "metadata": {
    "colab": {
      "provenance": []
    },
    "kernelspec": {
      "name": "python3",
      "display_name": "Python 3"
    },
    "language_info": {
      "name": "python"
    }
  },
  "cells": [
    {
      "cell_type": "code",
      "source": [
        "import os\n",
        "import pandas as pd\n",
        "import numpy as np\n",
        "from sklearn.model_selection import train_test_split\n",
        "from transformers import  TFBertForSequenceClassification, BertTokenizer\n",
        "import tensorflow as tf\n",
        "from sklearn.preprocessing import LabelEncoder\n",
        "from tensorflow.keras.models import Sequential\n",
        "from tensorflow.keras.layers import Dense, Embedding, Flatten, Dropout\n",
        "from tensorflow.keras.optimizers import Adam\n",
        "from tensorflow.keras.models import Model\n",
        "from tensorflow.keras.layers import Dense, Dropout, Input"
      ],
      "metadata": {
        "id": "pgWIl29kZXim"
      },
      "execution_count": null,
      "outputs": []
    },
    {
      "cell_type": "markdown",
      "source": [
        "# 1. Data Preparation\n",
        "**Load tourism_data (data_wisata)**\n",
        "<br>\n",
        "**Load traveloka_newyearhotels (data_hotel)**"
      ],
      "metadata": {
        "id": "JuHuPNi-ZhTD"
      }
    },
    {
      "cell_type": "code",
      "execution_count": null,
      "metadata": {
        "id": "JV1S9ojHYJPv"
      },
      "outputs": [],
      "source": [
        "data_wisata = pd.read_csv('tourism_data.csv')\n",
        "data_hotel = pd.read_csv('traveloka_newyearhotels.csv', on_bad_lines='skip', delimiter=';')\n"
      ]
    },
    {
      "cell_type": "markdown",
      "source": [
        "**Cleaning Data**\n",
        "1. Data hanya terfokus pada kolom city jakarta untuk menyesuaikan dengan aplikasi yang kami buat\n",
        "2. Menghapus kolom yang tidak diperlukan dalam pengerjaan\n",
        "3. meng\n",
        "\n",
        "\n"
      ],
      "metadata": {
        "id": "JNc81PgSmfQT"
      }
    },
    {
      "cell_type": "code",
      "source": [
        "# Filter data to only include rows where 'city' is 'Jakarta'\n",
        "data_wisata = data_wisata[data_wisata['City'] == 'Jakarta']\n",
        "data_hotel = data_hotel[data_hotel['city'] == 'Jakarta']\n",
        "\n",
        "\n",
        "# Drop unnecessary columns\n",
        "data_wisata = data_wisata.drop(['Time_Minutes', 'Lat', 'Long', 'Column1', '_1'], axis=1)\n",
        "data_hotel = data_hotel.drop(['timestamp', 'checkin', 'checkout', 'num_staying_nights', 'id','displayName', 'latitude', 'longitude', 'lowRate','highRate', 'hotelSeoUrl','cheapestRate_allNights_baseFare', 'cheapestRate_allNights_fees', 'cheapestRate_allNights_taxes', 'cheapestRate_allNights_totalFare','cheapestRate_perNight_baseFare', 'cheapestRate_perNight_fees', 'cheapestRate_perNight_taxes', 'cheapestRate_perNight_totalFare', 'originalRate_allNights_baseFare', 'originalRate_allNights_fees','originalRate_allNights_taxes', 'originalRate_allNights_totalFare', 'originalRate_perNight_baseFare', 'originalRate_perNight_fees','originalRate_perNight_taxes'], axis=1)\n",
        "\n",
        "# Drop rows with missing values\n",
        "data_wisata = data_wisata.dropna()\n",
        "data_hotel = data_hotel.dropna()"
      ],
      "metadata": {
        "id": "EnJNJhExiOno"
      },
      "execution_count": null,
      "outputs": []
    },
    {
      "cell_type": "markdown",
      "source": [
        "**bold text**"
      ],
      "metadata": {
        "id": "WioMr3_CaZLa"
      }
    },
    {
      "cell_type": "code",
      "source": [
        "# Pilih hanya kolom numerik untuk setiap dataset\n",
        "numerical_cols_hotel = data_hotel.select_dtypes(include=['number'])\n",
        "numerical_cols_wisata = data_wisata.select_dtypes(include=['number'])\n",
        "\n",
        "# Hitung kuartil ketiga (Q3) untuk kolom numerik di setiap dataset\n",
        "q3_values_hotel = numerical_cols_hotel.quantile(0.75)\n",
        "q3_values_wisata = numerical_cols_wisata.quantile(0.75)\n",
        "\n",
        "# Ganti nilai 0 dengan Q3 di kolom numerik masing-masing dataset\n",
        "data_hotel[numerical_cols_hotel.columns] = numerical_cols_hotel.apply(\n",
        "    lambda col: col.replace(0, q3_values_hotel[col.name])\n",
        ")\n",
        "data_wisata[numerical_cols_wisata.columns] = numerical_cols_wisata.apply(\n",
        "    lambda col: col.replace(0, q3_values_wisata[col.name])\n",
        ")\n",
        "\n",
        "# Tampilkan data yang telah dimodifikasi\n",
        "print(data_hotel.head())\n",
        "print(data_wisata.head())\n",
        "\n",
        "# Periksa kolom yang masih memiliki nilai 0\n",
        "cols_with_zeros_hotel = (data_hotel == 0).sum()\n",
        "print(cols_with_zeros_hotel[cols_with_zeros_hotel > 0])\n",
        "\n",
        "cols_with_zeros_wisata = (data_wisata == 0).sum()\n",
        "print(cols_with_zeros_wisata[cols_with_zeros_wisata > 0])\n"
      ],
      "metadata": {
        "colab": {
          "base_uri": "https://localhost:8080/"
        },
        "id": "zf6ADz3eTA3W",
        "outputId": "151e4468-1b29-4576-94c6-2f913ce4ea1f"
      },
      "execution_count": null,
      "outputs": [
        {
          "output_type": "stream",
          "name": "stdout",
          "text": [
            "      city                                  name                   region  \\\n",
            "0  Jakarta  The Sultan Hotel & Residence Jakarta         Senayan, Jakarta   \n",
            "1  Jakarta               Aryaduta Suite Semanggi  Karet Semanggi, Jakarta   \n",
            "2  Jakarta                   Aloft South Jakarta  Cilandak Timur, Jakarta   \n",
            "3  Jakarta                  The Langham, Jakarta         Senayan, Jakarta   \n",
            "4  Jakarta          Hotel Mulia Senayan, Jakarta         Senayan, Jakarta   \n",
            "\n",
            "   starRating  userRating  numReviews userRatingInfo  \\\n",
            "0         5.0         8.6      7247.0    Mengesankan   \n",
            "1         4.0         8.5      4882.0    Mengesankan   \n",
            "2         4.0         8.9       467.0    Mengesankan   \n",
            "3         5.0         8.8       340.0    Mengesankan   \n",
            "4         5.0         8.7      1540.0    Mengesankan   \n",
            "\n",
            "                                       hotelFeatures  \\\n",
            "0  Bayar saat Check-in, Restoran show cooking, Wi...   \n",
            "1  Squash, Area main anak, Tennis, Layanan pijat,...   \n",
            "2  Bar, Sewa mobil, Pusat kebugaran, Bilyar, Bar ...   \n",
            "3  Restoran show cooking, Aktivitas outdoor, Klub...   \n",
            "4  Bar, Tennis, Fasilitas bisnis, Lapangan tennis...   \n",
            "\n",
            "   originalRate_perNight_totalFare  \n",
            "0                        2541000.0  \n",
            "1                        2499074.0  \n",
            "2                        1726267.0  \n",
            "3                       10440041.0  \n",
            "4                        7260000.0  \n",
            "   Place_Id                         Place_Name  \\\n",
            "0         1                   Monumen Nasional   \n",
            "1         2                           Kota Tua   \n",
            "2         3                      Dunia Fantasi   \n",
            "3         4  Taman Mini Indonesia Indah (TMII)   \n",
            "4         5           Atlantis Water Adventure   \n",
            "\n",
            "                                         Description       Category     City  \\\n",
            "0  Monumen Nasional atau yang populer disingkat d...         Budaya  Jakarta   \n",
            "1  Kota tua di Jakarta, yang juga bernama Kota Tu...         Budaya  Jakarta   \n",
            "2  Dunia Fantasi atau disebut juga Dufan adalah t...  Taman Hiburan  Jakarta   \n",
            "3  Taman Mini Indonesia Indah merupakan suatu kaw...  Taman Hiburan  Jakarta   \n",
            "4  Atlantis Water Adventure atau dikenal dengan A...  Taman Hiburan  Jakarta   \n",
            "\n",
            "    Price  Rating                                       Coordinate  \\\n",
            "0   20000      46          {'lat': -6.1753924, 'lng': 106.8271528}   \n",
            "1   25000      46  {'lat': -6.137644799999999, 'lng': 106.8171245}   \n",
            "2  270000      46  {'lat': -6.125312399999999, 'lng': 106.8335377}   \n",
            "3   10000      45  {'lat': -6.302445899999999, 'lng': 106.8951559}   \n",
            "4   94000      45             {'lat': -6.12419, 'lng': 106.839134}   \n",
            "\n",
            "   Rating_Count  \n",
            "0            18  \n",
            "1            25  \n",
            "2            19  \n",
            "3            21  \n",
            "4            24  \n",
            "Series([], dtype: int64)\n",
            "Series([], dtype: int64)\n"
          ]
        }
      ]
    },
    {
      "cell_type": "markdown",
      "source": [
        "**Membuat file baru dari hasil cleaning data**"
      ],
      "metadata": {
        "id": "1izLqtdtnUXj"
      }
    },
    {
      "cell_type": "code",
      "source": [
        "# Save the cleaned dataset\n",
        "data_wisata.to_csv('cleaned_dataset_wisata.csv', index=False)\n",
        "data_hotel.to_csv('cleaned_dataset_hotel.csv', index=False)"
      ],
      "metadata": {
        "id": "bX3SVsflnTvm"
      },
      "execution_count": null,
      "outputs": []
    },
    {
      "cell_type": "markdown",
      "source": [
        "**View New Dataset**"
      ],
      "metadata": {
        "id": "VaYHjnRTnpRt"
      }
    },
    {
      "cell_type": "code",
      "source": [
        "# Load the cleaned dataset\n",
        "cleaned_data_wisata = pd.read_csv('cleaned_dataset_wisata.csv')\n",
        "cleaned_data_hotel = pd.read_csv('cleaned_dataset_hotel.csv')\n",
        "\n",
        "# Print the first 5 rows\n",
        "print(cleaned_data_wisata.head())\n",
        "print(cleaned_data_hotel.head())\n",
        "\n",
        "# Print the shape of the dataset\n",
        "print(f\"The dataset wisata has {cleaned_data_wisata.shape[0]} rows and {cleaned_data_wisata.shape[1]} columns.\")\n",
        "print(f\"The dataset hotel has {cleaned_data_hotel.shape[0]} rows and {cleaned_data_hotel.shape[1]} columns.\")"
      ],
      "metadata": {
        "colab": {
          "base_uri": "https://localhost:8080/"
        },
        "id": "1-t7MaKMno52",
        "outputId": "0d423a88-e3d7-41d4-b613-faf0e77f8168"
      },
      "execution_count": null,
      "outputs": [
        {
          "output_type": "stream",
          "name": "stdout",
          "text": [
            "   Place_Id                         Place_Name  \\\n",
            "0         1                   Monumen Nasional   \n",
            "1         2                           Kota Tua   \n",
            "2         3                      Dunia Fantasi   \n",
            "3         4  Taman Mini Indonesia Indah (TMII)   \n",
            "4         5           Atlantis Water Adventure   \n",
            "\n",
            "                                         Description       Category     City  \\\n",
            "0  Monumen Nasional atau yang populer disingkat d...         Budaya  Jakarta   \n",
            "1  Kota tua di Jakarta, yang juga bernama Kota Tu...         Budaya  Jakarta   \n",
            "2  Dunia Fantasi atau disebut juga Dufan adalah t...  Taman Hiburan  Jakarta   \n",
            "3  Taman Mini Indonesia Indah merupakan suatu kaw...  Taman Hiburan  Jakarta   \n",
            "4  Atlantis Water Adventure atau dikenal dengan A...  Taman Hiburan  Jakarta   \n",
            "\n",
            "    Price  Rating                                       Coordinate  \\\n",
            "0   20000      46          {'lat': -6.1753924, 'lng': 106.8271528}   \n",
            "1   25000      46  {'lat': -6.137644799999999, 'lng': 106.8171245}   \n",
            "2  270000      46  {'lat': -6.125312399999999, 'lng': 106.8335377}   \n",
            "3   10000      45  {'lat': -6.302445899999999, 'lng': 106.8951559}   \n",
            "4   94000      45             {'lat': -6.12419, 'lng': 106.839134}   \n",
            "\n",
            "   Rating_Count  \n",
            "0            18  \n",
            "1            25  \n",
            "2            19  \n",
            "3            21  \n",
            "4            24  \n",
            "      city                                  name                   region  \\\n",
            "0  Jakarta  The Sultan Hotel & Residence Jakarta         Senayan, Jakarta   \n",
            "1  Jakarta               Aryaduta Suite Semanggi  Karet Semanggi, Jakarta   \n",
            "2  Jakarta                   Aloft South Jakarta  Cilandak Timur, Jakarta   \n",
            "3  Jakarta                  The Langham, Jakarta         Senayan, Jakarta   \n",
            "4  Jakarta          Hotel Mulia Senayan, Jakarta         Senayan, Jakarta   \n",
            "\n",
            "   starRating  userRating  numReviews userRatingInfo  \\\n",
            "0         5.0         8.6      7247.0    Mengesankan   \n",
            "1         4.0         8.5      4882.0    Mengesankan   \n",
            "2         4.0         8.9       467.0    Mengesankan   \n",
            "3         5.0         8.8       340.0    Mengesankan   \n",
            "4         5.0         8.7      1540.0    Mengesankan   \n",
            "\n",
            "                                       hotelFeatures  \\\n",
            "0  Bayar saat Check-in, Restoran show cooking, Wi...   \n",
            "1  Squash, Area main anak, Tennis, Layanan pijat,...   \n",
            "2  Bar, Sewa mobil, Pusat kebugaran, Bilyar, Bar ...   \n",
            "3  Restoran show cooking, Aktivitas outdoor, Klub...   \n",
            "4  Bar, Tennis, Fasilitas bisnis, Lapangan tennis...   \n",
            "\n",
            "   originalRate_perNight_totalFare  \n",
            "0                        2541000.0  \n",
            "1                        2499074.0  \n",
            "2                        1726267.0  \n",
            "3                       10440041.0  \n",
            "4                        7260000.0  \n",
            "The dataset wisata has 84 rows and 9 columns.\n",
            "The dataset hotel has 117 rows and 9 columns.\n"
          ]
        }
      ]
    },
    {
      "cell_type": "markdown",
      "source": [
        "Split data into  into train, validation, and test sets"
      ],
      "metadata": {
        "id": "aAjqj-xJbVwj"
      }
    },
    {
      "cell_type": "markdown",
      "source": [
        "# 2. Pembagian dataset\n"
      ],
      "metadata": {
        "id": "6A8EgmWod-nX"
      }
    },
    {
      "cell_type": "code",
      "source": [
        "# Load the cleaned datasets\n",
        "cleaned_data_wisata = pd.read_csv('cleaned_dataset_wisata.csv')\n",
        "cleaned_data_hotel = pd.read_csv('cleaned_dataset_hotel.csv')\n",
        "\n",
        "# Function to split dataset into train, validation, and test sets\n",
        "def split_dataset(data, train_size=0.7, val_size=0.15, test_size=0.15, random_state=42):\n",
        "    assert train_size + val_size + test_size == 1.0, \"Train, Validation, and Test sizes must sum to 1.0\"\n",
        "    train_data, temp_data = train_test_split(data, test_size=(val_size + test_size), random_state=random_state)\n",
        "    val_data, test_data = train_test_split(temp_data, test_size=test_size/(val_size + test_size), random_state=random_state)\n",
        "    return train_data, val_data, test_data\n",
        "\n",
        "# Process wisata dataset\n",
        "X_wisata = cleaned_data_wisata.iloc[:, :-1]  # Features\n",
        "y_wisata = cleaned_data_wisata.iloc[:, -1]   # Target\n",
        "\n",
        "X_train_wisata, X_temp_wisata, y_train_wisata, y_temp_wisata = train_test_split(\n",
        "    X_wisata, y_wisata, test_size=0.3, random_state=42)\n",
        "X_val_wisata, X_test_wisata, y_val_wisata, y_test_wisata = train_test_split(\n",
        "    X_temp_wisata, y_temp_wisata, test_size=0.5, random_state=42)\n",
        "\n",
        "# Save wisata splits\n",
        "X_train_wisata.to_csv('train_features_wisata.csv', index=False)\n",
        "y_train_wisata.to_csv('train_labels_wisata.csv', index=False)\n",
        "X_val_wisata.to_csv('val_features_wisata.csv', index=False)\n",
        "y_val_wisata.to_csv('val_labels_wisata.csv', index=False)\n",
        "X_test_wisata.to_csv('test_features_wisata.csv', index=False)\n",
        "y_test_wisata.to_csv('test_labels_wisata.csv', index=False)\n",
        "\n",
        "# Process hotel dataset\n",
        "X_hotel = cleaned_data_hotel.iloc[:, :-1]  # Features\n",
        "y_hotel = cleaned_data_hotel.iloc[:, -1]   # Target\n",
        "\n",
        "X_train_hotel, X_temp_hotel, y_train_hotel, y_temp_hotel = train_test_split(\n",
        "    X_hotel, y_hotel, test_size=0.3, random_state=42)\n",
        "X_val_hotel, X_test_hotel, y_val_hotel, y_test_hotel = train_test_split(\n",
        "    X_temp_hotel, y_temp_hotel, test_size=0.5, random_state=42)\n",
        "\n",
        "# Save hotel splits\n",
        "X_train_hotel.to_csv('train_features_hotel.csv', index=False)\n",
        "y_train_hotel.to_csv('train_labels_hotel.csv', index=False)\n",
        "X_val_hotel.to_csv('val_features_hotel.csv', index=False)\n",
        "y_val_hotel.to_csv('val_labels_hotel.csv', index=False)\n",
        "X_test_hotel.to_csv('test_features_hotel.csv', index=False)\n",
        "y_test_hotel.to_csv('test_labels_hotel.csv', index=False)\n",
        "\n",
        "# Display sample counts\n",
        "print(f\"Training set (Wisata): {len(X_train_wisata)} samples\")\n",
        "print(f\"Validation set (Wisata): {len(X_val_wisata)} samples\")\n",
        "print(f\"Testing set (Wisata): {len(X_test_wisata)} samples\")\n",
        "\n",
        "print(f\"Training set (Hotel): {len(X_train_hotel)} samples\")\n",
        "print(f\"Validation set (Hotel): {len(X_val_hotel)} samples\")\n",
        "print(f\"Testing set (Hotel): {len(X_test_hotel)} samples\")\n"
      ],
      "metadata": {
        "id": "0jpm1b8u_utK",
        "colab": {
          "base_uri": "https://localhost:8080/"
        },
        "outputId": "305507c1-9cab-4f85-e65c-822bcf9b357f"
      },
      "execution_count": null,
      "outputs": [
        {
          "output_type": "stream",
          "name": "stdout",
          "text": [
            "Training set (Wisata): 58 samples\n",
            "Validation set (Wisata): 13 samples\n",
            "Testing set (Wisata): 13 samples\n",
            "Training set (Hotel): 81 samples\n",
            "Validation set (Hotel): 18 samples\n",
            "Testing set (Hotel): 18 samples\n"
          ]
        }
      ]
    }
  ]
}